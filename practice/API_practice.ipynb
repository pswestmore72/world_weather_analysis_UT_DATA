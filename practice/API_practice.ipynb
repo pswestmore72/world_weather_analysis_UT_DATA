{
 "cells": [
  {
   "cell_type": "code",
   "execution_count": 1,
   "id": "0b8a795f",
   "metadata": {},
   "outputs": [],
   "source": [
    "# Import the requests library.\n",
    "import requests\n",
    "\n",
    "# Import the API key.\n",
    "from config import weather_api_key"
   ]
  },
  {
   "cell_type": "code",
   "execution_count": 2,
   "id": "81f63281",
   "metadata": {},
   "outputs": [
    {
     "name": "stdout",
     "output_type": "stream",
     "text": [
      "http://api.openweathermap.org/data/2.5/weather?units=Imperial&appid=ffa4f5a4d50c8252c86a4cdf54c74e90\n"
     ]
    }
   ],
   "source": [
    "# Starting URL for Weather Map API Call.\n",
    "url = f'http://api.openweathermap.org/data/2.5/weather?units=Imperial&appid={weather_api_key}'\n",
    "print(url)"
   ]
  },
  {
   "cell_type": "code",
   "execution_count": 13,
   "id": "dcc0ee58",
   "metadata": {},
   "outputs": [
    {
     "name": "stdout",
     "output_type": "stream",
     "text": [
      "http://api.openweathermap.org/data/2.5/weather?units=Imperial&appid=ffa4f5a4d50c8252c86a4cdf54c74e90&q=Fort Worth\n"
     ]
    }
   ],
   "source": [
    "# Create an endpoint URL for a city.\n",
    "city_url = f'{url}&q=Fort Worth'\n",
    "print(city_url)"
   ]
  },
  {
   "cell_type": "code",
   "execution_count": 14,
   "id": "9acf2f7d",
   "metadata": {},
   "outputs": [
    {
     "name": "stdout",
     "output_type": "stream",
     "text": [
      "City weather found.\n"
     ]
    },
    {
     "data": {
      "text/plain": [
       "{'coord': {'lon': -97.3208, 'lat': 32.7254},\n",
       " 'weather': [{'id': 803,\n",
       "   'main': 'Clouds',\n",
       "   'description': 'broken clouds',\n",
       "   'icon': '04d'}],\n",
       " 'base': 'stations',\n",
       " 'main': {'temp': 77.11,\n",
       "  'feels_like': 77.34,\n",
       "  'temp_min': 73.18,\n",
       "  'temp_max': 79.36,\n",
       "  'pressure': 1020,\n",
       "  'humidity': 60},\n",
       " 'visibility': 10000,\n",
       " 'wind': {'speed': 5.01, 'deg': 360, 'gust': 18.01},\n",
       " 'clouds': {'all': 78},\n",
       " 'dt': 1632239365,\n",
       " 'sys': {'type': 2,\n",
       "  'id': 2005247,\n",
       "  'country': 'US',\n",
       "  'sunrise': 1632226619,\n",
       "  'sunset': 1632270454},\n",
       " 'timezone': -18000,\n",
       " 'id': 4691930,\n",
       " 'name': 'Fort Worth',\n",
       " 'cod': 200}"
      ]
     },
     "execution_count": 14,
     "metadata": {},
     "output_type": "execute_result"
    }
   ],
   "source": [
    "weather_response = requests.get(city_url)\n",
    "if weather_response.status_code == 200:\n",
    "    print(f\"City weather found.\")\n",
    "else:\n",
    "    print(f\"City weather not found.\")\n",
    "weather_json = weather_response.json()\n",
    "weather_json"
   ]
  },
  {
   "cell_type": "code",
   "execution_count": 5,
   "id": "dac3bd22",
   "metadata": {},
   "outputs": [
    {
     "data": {
      "text/plain": [
       "[{'id': 802,\n",
       "  'main': 'Clouds',\n",
       "  'description': 'scattered clouds',\n",
       "  'icon': '03d'}]"
      ]
     },
     "execution_count": 5,
     "metadata": {},
     "output_type": "execute_result"
    }
   ],
   "source": [
    "weather = weather_json.get('weather')\n",
    "weather"
   ]
  },
  {
   "cell_type": "code",
   "execution_count": 8,
   "id": "191b52f3",
   "metadata": {},
   "outputs": [
    {
     "data": {
      "text/plain": [
       "'US'"
      ]
     },
     "execution_count": 8,
     "metadata": {},
     "output_type": "execute_result"
    }
   ],
   "source": [
    "weather_json['sys']['country']"
   ]
  },
  {
   "cell_type": "code",
   "execution_count": 9,
   "id": "997a6f58",
   "metadata": {},
   "outputs": [
    {
     "data": {
      "text/plain": [
       "1632238524"
      ]
     },
     "execution_count": 9,
     "metadata": {},
     "output_type": "execute_result"
    }
   ],
   "source": [
    "weather_json['dt']"
   ]
  },
  {
   "cell_type": "code",
   "execution_count": 10,
   "id": "8c883b5a",
   "metadata": {},
   "outputs": [
    {
     "name": "stdout",
     "output_type": "stream",
     "text": [
      "42.3584 -71.0598 72.23 77 34 1.99\n"
     ]
    }
   ],
   "source": [
    "lat = weather_json[\"coord\"][\"lat\"]\n",
    "lng = weather_json[\"coord\"][\"lon\"]\n",
    "max_temp = weather_json[\"main\"][\"temp_max\"]\n",
    "humidity = weather_json[\"main\"][\"humidity\"]\n",
    "clouds = weather_json[\"clouds\"][\"all\"]\n",
    "wind = weather_json[\"wind\"][\"speed\"]\n",
    "print(lat, lng, max_temp, humidity, clouds, wind)"
   ]
  },
  {
   "cell_type": "code",
   "execution_count": 12,
   "id": "d3abca80",
   "metadata": {},
   "outputs": [
    {
     "data": {
      "text/plain": [
       "'2021-09-21 15:35:24'"
      ]
     },
     "execution_count": 12,
     "metadata": {},
     "output_type": "execute_result"
    }
   ],
   "source": [
    "# Import the datetime module from the datetime library.\n",
    "from datetime import datetime\n",
    "# Get the date from the JSON file.\n",
    "date = weather_json[\"dt\"]\n",
    "# Convert the UTC date to a date format with year, month, day, hours, minutes, and seconds.\n",
    "datetime.utcfromtimestamp(date).strftime('%Y-%m-%d %H:%M:%S')"
   ]
  },
  {
   "cell_type": "code",
   "execution_count": null,
   "id": "68e7d927",
   "metadata": {},
   "outputs": [],
   "source": []
  }
 ],
 "metadata": {
  "kernelspec": {
   "display_name": "PythonData",
   "language": "python",
   "name": "pythondata"
  },
  "language_info": {
   "codemirror_mode": {
    "name": "ipython",
    "version": 3
   },
   "file_extension": ".py",
   "mimetype": "text/x-python",
   "name": "python",
   "nbconvert_exporter": "python",
   "pygments_lexer": "ipython3",
   "version": "3.9.4"
  }
 },
 "nbformat": 4,
 "nbformat_minor": 5
}
