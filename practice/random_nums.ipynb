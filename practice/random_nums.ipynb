{
 "cells": [
  {
   "cell_type": "code",
   "execution_count": 1,
   "id": "1cc6a21f",
   "metadata": {},
   "outputs": [],
   "source": [
    "# imports\n",
    "import random as rd"
   ]
  },
  {
   "cell_type": "code",
   "execution_count": 2,
   "id": "c8e8b22a",
   "metadata": {},
   "outputs": [
    {
     "data": {
      "text/plain": [
       "0.9599218103574184"
      ]
     },
     "execution_count": 2,
     "metadata": {},
     "output_type": "execute_result"
    }
   ],
   "source": [
    "rd.random()"
   ]
  },
  {
   "cell_type": "code",
   "execution_count": 3,
   "id": "66f9df03",
   "metadata": {},
   "outputs": [
    {
     "data": {
      "text/plain": [
       "75"
      ]
     },
     "execution_count": 3,
     "metadata": {},
     "output_type": "execute_result"
    }
   ],
   "source": [
    "rd.randint(2, 100)"
   ]
  },
  {
   "cell_type": "code",
   "execution_count": 4,
   "id": "769c93db",
   "metadata": {},
   "outputs": [
    {
     "data": {
      "text/plain": [
       "-9"
      ]
     },
     "execution_count": 4,
     "metadata": {},
     "output_type": "execute_result"
    }
   ],
   "source": [
    "rd.randrange(-9,9,3)"
   ]
  },
  {
   "cell_type": "code",
   "execution_count": 5,
   "id": "f976317f",
   "metadata": {},
   "outputs": [
    {
     "data": {
      "text/plain": [
       "-3.40870516112886"
      ]
     },
     "execution_count": 5,
     "metadata": {},
     "output_type": "execute_result"
    }
   ],
   "source": [
    "rd.uniform(-10,10)"
   ]
  },
  {
   "cell_type": "code",
   "execution_count": 6,
   "id": "83d58c69",
   "metadata": {},
   "outputs": [
    {
     "data": {
      "text/plain": [
       "-48.7066991946427"
      ]
     },
     "execution_count": 6,
     "metadata": {},
     "output_type": "execute_result"
    }
   ],
   "source": [
    "ran_lat = rd.randint(-90, 89) + rd.random()\n",
    "ran_lat"
   ]
  },
  {
   "cell_type": "code",
   "execution_count": 7,
   "id": "5c92f450",
   "metadata": {},
   "outputs": [
    {
     "data": {
      "text/plain": [
       "[-18.772863276223067,\n",
       " 50.87302325706728,\n",
       " 40.2675322450423,\n",
       " -67.04986111748373,\n",
       " -74.75239983575261,\n",
       " -71.6512602338328,\n",
       " 48.06459931616835,\n",
       " -74.92094188526134,\n",
       " -66.54294402713984,\n",
       " -55.797160082183495]"
      ]
     },
     "execution_count": 7,
     "metadata": {},
     "output_type": "execute_result"
    }
   ],
   "source": [
    "x = 1\n",
    "latitudes = []\n",
    "while x < 11:\n",
    "    random_lat = rd.randint(-90, 89) + rd.random()\n",
    "    latitudes.append(random_lat)\n",
    "    x += 1\n",
    "latitudes"
   ]
  },
  {
   "cell_type": "code",
   "execution_count": 8,
   "id": "c9877d3f",
   "metadata": {},
   "outputs": [
    {
     "data": {
      "text/plain": [
       "[136, 160, -117, -93, -163, 119, 171, 66, -78, 133]"
      ]
     },
     "execution_count": 8,
     "metadata": {},
     "output_type": "execute_result"
    }
   ],
   "source": [
    "x = 1\n",
    "longitudes = []\n",
    "while x < 11:\n",
    "    random_long = rd.randrange(-180, 179, 1)\n",
    "    longitudes.append(random_long)\n",
    "    x += 1\n",
    "longitudes"
   ]
  },
  {
   "cell_type": "code",
   "execution_count": 9,
   "id": "d358ba8c",
   "metadata": {},
   "outputs": [
    {
     "data": {
      "text/plain": [
       "[-80.96350673252205,\n",
       " 5.4905339457679645,\n",
       " 134.96070873200784,\n",
       " 99.97000267458094,\n",
       " -36.171844390209145,\n",
       " -126.31286031308193,\n",
       " -89.66075700534601,\n",
       " -157.7448122293781,\n",
       " 168.23010124619304,\n",
       " -79.49108995931813]"
      ]
     },
     "execution_count": 9,
     "metadata": {},
     "output_type": "execute_result"
    }
   ],
   "source": [
    "x = 1\n",
    "longitudes = []\n",
    "while x < 11:\n",
    "    random_long = rd.uniform(-180, 180)\n",
    "    longitudes.append(random_long)\n",
    "    x += 1\n",
    "longitudes"
   ]
  },
  {
   "cell_type": "code",
   "execution_count": 10,
   "id": "e5dcbe4d",
   "metadata": {},
   "outputs": [],
   "source": [
    "# Import the NumPy module.\n",
    "import numpy as np"
   ]
  },
  {
   "cell_type": "code",
   "execution_count": 11,
   "id": "4ba21627",
   "metadata": {},
   "outputs": [
    {
     "data": {
      "text/plain": [
       "array([-66.65207433, -59.17674316,  -3.82856746,  14.7992513 ,\n",
       "       -83.94410128,  48.25176988,  44.89657344, -27.81328896,\n",
       "       -82.79618261,   5.8773571 ,  16.39467049,  48.05210195,\n",
       "        61.51163778,  55.18359217,  69.47592439,  76.84843945,\n",
       "         2.05472039, -31.2873227 ,   8.94128248,  42.26187644,\n",
       "       -39.83984479, -73.16681807, -68.68711172,  55.15279492,\n",
       "        88.83194578, -24.15123258, -35.76289754,  35.8620519 ,\n",
       "       -83.54647064,  57.06746118,   0.49215451,  79.39062727,\n",
       "       -74.52470784, -22.70174541,  -2.52369582, -68.24173109,\n",
       "        76.99753308, -80.70067103,  20.34203502,  32.75344486,\n",
       "        17.63467146,  46.13450173, -69.06499511,  38.8132362 ,\n",
       "        85.06055523,  79.98497034,  10.2641033 ,   0.84585981,\n",
       "       -30.58414692, -84.47642732])"
      ]
     },
     "execution_count": 11,
     "metadata": {},
     "output_type": "execute_result"
    }
   ],
   "source": [
    "np.random.uniform(-90.000, 90.000, size=50)"
   ]
  },
  {
   "cell_type": "code",
   "execution_count": 12,
   "id": "4665cc37",
   "metadata": {},
   "outputs": [],
   "source": [
    "coords = (np.random.uniform(-90, 90, size=50), np.random.uniform(-180, 180, size=50))"
   ]
  },
  {
   "cell_type": "code",
   "execution_count": 13,
   "id": "664adff9",
   "metadata": {},
   "outputs": [
    {
     "data": {
      "text/plain": [
       "(array([  0.4643122 , -44.62990182, -55.61750162,  -5.5711495 ,\n",
       "        -74.92149895,  85.07752145, -61.35120877,  29.52385867,\n",
       "        -87.11870139,  52.37916292, -27.85236848,  32.0152623 ,\n",
       "        -61.51810188,  23.40021032, -78.82345927,  -1.77290465,\n",
       "        -24.59221248,  72.97122195, -19.21114787,  76.29312074,\n",
       "        -87.77926186, -53.17810376, -79.98560155, -68.57178035,\n",
       "          6.20899601,  78.68466955, -34.29148125, -11.58015611,\n",
       "         80.93979985, -78.35175846,  31.16802334, -65.28075691,\n",
       "         51.59713462, -42.46385157, -64.11034068, -20.77720056,\n",
       "         64.68295659, -71.48043151, -57.87452286, -12.01791342,\n",
       "        -18.95074557, -79.55392512,  44.4824763 ,  78.60123924,\n",
       "         -2.32562517,  57.03912007,  -2.52828093,  67.99321604,\n",
       "        -87.80373026, -48.47320538]),\n",
       " array([  53.99733508,  -79.80952811,  135.09982655,   89.59811677,\n",
       "          -4.63559236,  117.06719112,  113.36144095, -108.74150592,\n",
       "         -47.01153471,   61.82621485,  -44.74914935,   93.05142686,\n",
       "        -126.82065083,  -52.84817009,  161.15483792,  138.96801933,\n",
       "         -12.61976433,   37.80914873,  -53.27485399, -120.73703272,\n",
       "          43.76424641,  129.56518727, -125.66284015,  136.46047379,\n",
       "         169.80455031,  -66.21285767,   28.79329262,   41.08503453,\n",
       "          46.73091564,   99.89841003, -124.12616948,  -40.88695675,\n",
       "         -58.90290774,   -3.3202959 ,   94.90056116,   49.29284458,\n",
       "          68.84937007,  176.41298614, -168.51274843,   59.02007894,\n",
       "           8.84383203,  106.04184209, -134.76036965, -108.39096266,\n",
       "         155.74328867,  139.1817094 , -135.26762857,    8.61094432,\n",
       "        -166.48593025,  -86.81485738]))"
      ]
     },
     "execution_count": 13,
     "metadata": {},
     "output_type": "execute_result"
    }
   ],
   "source": [
    "coords"
   ]
  },
  {
   "cell_type": "code",
   "execution_count": 14,
   "id": "63dd9e99",
   "metadata": {},
   "outputs": [],
   "source": [
    "# Import timeit.\n",
    "import timeit"
   ]
  },
  {
   "cell_type": "code",
   "execution_count": 15,
   "id": "2432234a",
   "metadata": {},
   "outputs": [
    {
     "name": "stdout",
     "output_type": "stream",
     "text": [
      "16.3 µs ± 485 ns per loop (mean ± std. dev. of 7 runs, 100000 loops each)\n"
     ]
    }
   ],
   "source": [
    "%timeit np.random.uniform(-90, 90, size=1500)"
   ]
  },
  {
   "cell_type": "code",
   "execution_count": 16,
   "id": "1faefafb",
   "metadata": {},
   "outputs": [
    {
     "name": "stdout",
     "output_type": "stream",
     "text": [
      "2.38 ms ± 28.5 µs per loop (mean ± std. dev. of 7 runs, 100 loops each)\n"
     ]
    }
   ],
   "source": [
    "def latitudes(size):\n",
    "    latitudes = []\n",
    "    x = 0\n",
    "    while x < (size):\n",
    "        random_lat = rd.randint(-90, 90) + rd.random()\n",
    "        latitudes.append(random_lat)\n",
    "        x += 1\n",
    "    return latitudes\n",
    "# Call the function with 1500.\n",
    "%timeit latitudes(1500)"
   ]
  },
  {
   "cell_type": "code",
   "execution_count": 17,
   "id": "92e4fb3b",
   "metadata": {},
   "outputs": [],
   "source": [
    "# Import linear regression from the SciPy stats module.\n",
    "from scipy.stats import linregress"
   ]
  },
  {
   "cell_type": "code",
   "execution_count": 18,
   "id": "645fa914",
   "metadata": {},
   "outputs": [],
   "source": [
    "# Create an equal number of latitudes and temperatures.\n",
    "lats = [42.5, 43.9, 8.1, 36.8, 79.9, 69.1, 25.7, 15.3, 12.7, 64.5]\n",
    "temps = [80.5, 75.3, 90.9, 90.0, 40.4, 62.3, 85.4, 79.6, 72.5, 72.0]"
   ]
  },
  {
   "cell_type": "code",
   "execution_count": 19,
   "id": "07e17cb8",
   "metadata": {},
   "outputs": [
    {
     "name": "stdout",
     "output_type": "stream",
     "text": [
      "y = -0.45x + 92.94\n",
      "The p-value is: 0.011\n"
     ]
    }
   ],
   "source": [
    "# Perform linear regression.\n",
    "(slope, intercept, r_value, p_value, std_err) = linregress(lats, temps)\n",
    "# Get the equation of the line.\n",
    "line_eq = \"y = \" + str(round(slope,2)) + \"x + \" + str(round(intercept,2))\n",
    "print(line_eq)\n",
    "print(f\"The p-value is: {p_value:.3f}\")"
   ]
  },
  {
   "cell_type": "code",
   "execution_count": 20,
   "id": "133fca53",
   "metadata": {},
   "outputs": [
    {
     "data": {
      "text/plain": [
       "LinregressResult(slope=-0.452929121241496, intercept=92.93922548147363, rvalue=-0.7590444753769936, pvalue=0.01089687086168761, stderr=0.13734880392044935, intercept_stderr=6.372784691788096)"
      ]
     },
     "execution_count": 20,
     "metadata": {},
     "output_type": "execute_result"
    }
   ],
   "source": [
    "linregress(lats, temps)"
   ]
  },
  {
   "cell_type": "code",
   "execution_count": 21,
   "id": "29db47c8",
   "metadata": {},
   "outputs": [],
   "source": [
    "# Calculate the regression line \"y values\" from the slope and intercept.\n",
    "regress_values = [(lat * slope + intercept) for lat in lats]"
   ]
  },
  {
   "cell_type": "code",
   "execution_count": 24,
   "id": "34cebd0a",
   "metadata": {},
   "outputs": [
    {
     "data": {
      "image/png": "[encoded data removed]",
      "text/plain": [
       "<Figure size 432x288 with 1 Axes>"
      ]
     },
     "metadata": {
      "needs_background": "light"
     },
     "output_type": "display_data"
    }
   ],
   "source": [
    "# Import Matplotlib.\n",
    "import matplotlib.pyplot as plt\n",
    "# Create a scatter plot of the x and y values.\n",
    "plt.scatter(lats,temps)\n",
    "# Plot the regression line with the x-values and the y coordinates based on the intercept and slope.\n",
    "plt.plot(lats,regress_values,\"r\")\n",
    "# Annotate the text for the line equation and add its coordinates.\n",
    "plt.annotate(line_eq, (10,40), fontsize=15, color=\"red\")\n",
    "plt.xlabel('Latitude')\n",
    "plt.ylabel('Temp')\n",
    "plt.show()"
   ]
  },
  {
   "cell_type": "code",
   "execution_count": null,
   "id": "767a4874",
   "metadata": {},
   "outputs": [],
   "source": []
  }
 ],
 "metadata": {
  "kernelspec": {
   "display_name": "PythonData",
   "language": "python",
   "name": "pythondata"
  },
  "language_info": {
   "codemirror_mode": {
    "name": "ipython",
    "version": 3
   },
   "file_extension": ".py",
   "mimetype": "text/x-python",
   "name": "python",
   "nbconvert_exporter": "python",
   "pygments_lexer": "ipython3",
   "version": "3.9.4"
  }
 },
 "nbformat": 4,
 "nbformat_minor": 5
}
