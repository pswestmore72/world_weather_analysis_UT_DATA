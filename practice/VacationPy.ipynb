{
 "cells": [
  {
   "cell_type": "code",
   "execution_count": 1,
   "id": "56e88a12",
   "metadata": {},
   "outputs": [],
   "source": [
    "# Import the dependencies.\n",
    "import pandas as pd\n",
    "import gmaps\n",
    "import requests\n",
    "# Import the API key.\n",
    "from config import g_key"
   ]
  },
  {
   "cell_type": "code",
   "execution_count": 2,
   "id": "6fecf533",
   "metadata": {},
   "outputs": [
    {
     "data": {
      "text/html": [
       "<div>\n",
       "<style scoped>\n",
       "    .dataframe tbody tr th:only-of-type {\n",
       "        vertical-align: middle;\n",
       "    }\n",
       "\n",
       "    .dataframe tbody tr th {\n",
       "        vertical-align: top;\n",
       "    }\n",
       "\n",
       "    .dataframe thead th {\n",
       "        text-align: right;\n",
       "    }\n",
       "</style>\n",
       "<table border=\"1\" class=\"dataframe\">\n",
       "  <thead>\n",
       "    <tr style=\"text-align: right;\">\n",
       "      <th></th>\n",
       "      <th>City_ID</th>\n",
       "      <th>City</th>\n",
       "      <th>Country</th>\n",
       "      <th>Date</th>\n",
       "      <th>Lat</th>\n",
       "      <th>Lng</th>\n",
       "      <th>Max Temp</th>\n",
       "      <th>Humidity</th>\n",
       "      <th>Cloudiness</th>\n",
       "      <th>Wind Speed</th>\n",
       "    </tr>\n",
       "  </thead>\n",
       "  <tbody>\n",
       "    <tr>\n",
       "      <th>0</th>\n",
       "      <td>0</td>\n",
       "      <td>Hilo</td>\n",
       "      <td>US</td>\n",
       "      <td>2021-09-21 16:08:48</td>\n",
       "      <td>19.7297</td>\n",
       "      <td>-155.0900</td>\n",
       "      <td>75.27</td>\n",
       "      <td>84</td>\n",
       "      <td>74</td>\n",
       "      <td>3.40</td>\n",
       "    </tr>\n",
       "    <tr>\n",
       "      <th>1</th>\n",
       "      <td>1</td>\n",
       "      <td>Albany</td>\n",
       "      <td>US</td>\n",
       "      <td>2021-09-21 16:13:22</td>\n",
       "      <td>42.6001</td>\n",
       "      <td>-73.9662</td>\n",
       "      <td>72.03</td>\n",
       "      <td>68</td>\n",
       "      <td>100</td>\n",
       "      <td>1.01</td>\n",
       "    </tr>\n",
       "    <tr>\n",
       "      <th>2</th>\n",
       "      <td>2</td>\n",
       "      <td>Gat</td>\n",
       "      <td>IL</td>\n",
       "      <td>2021-09-21 16:13:22</td>\n",
       "      <td>31.6100</td>\n",
       "      <td>34.7642</td>\n",
       "      <td>84.40</td>\n",
       "      <td>100</td>\n",
       "      <td>0</td>\n",
       "      <td>11.36</td>\n",
       "    </tr>\n",
       "    <tr>\n",
       "      <th>3</th>\n",
       "      <td>3</td>\n",
       "      <td>Belmopan</td>\n",
       "      <td>BZ</td>\n",
       "      <td>2021-09-21 16:08:41</td>\n",
       "      <td>17.2500</td>\n",
       "      <td>-88.7667</td>\n",
       "      <td>87.30</td>\n",
       "      <td>79</td>\n",
       "      <td>100</td>\n",
       "      <td>5.23</td>\n",
       "    </tr>\n",
       "    <tr>\n",
       "      <th>4</th>\n",
       "      <td>4</td>\n",
       "      <td>Kajaani</td>\n",
       "      <td>FI</td>\n",
       "      <td>2021-09-21 16:13:22</td>\n",
       "      <td>64.2273</td>\n",
       "      <td>27.7285</td>\n",
       "      <td>39.11</td>\n",
       "      <td>76</td>\n",
       "      <td>24</td>\n",
       "      <td>5.79</td>\n",
       "    </tr>\n",
       "  </tbody>\n",
       "</table>\n",
       "</div>"
      ],
      "text/plain": [
       "   City_ID      City Country                 Date      Lat       Lng  \\\n",
       "0        0      Hilo      US  2021-09-21 16:08:48  19.7297 -155.0900   \n",
       "1        1    Albany      US  2021-09-21 16:13:22  42.6001  -73.9662   \n",
       "2        2       Gat      IL  2021-09-21 16:13:22  31.6100   34.7642   \n",
       "3        3  Belmopan      BZ  2021-09-21 16:08:41  17.2500  -88.7667   \n",
       "4        4   Kajaani      FI  2021-09-21 16:13:22  64.2273   27.7285   \n",
       "\n",
       "   Max Temp  Humidity  Cloudiness  Wind Speed  \n",
       "0     75.27        84          74        3.40  \n",
       "1     72.03        68         100        1.01  \n",
       "2     84.40       100           0       11.36  \n",
       "3     87.30        79         100        5.23  \n",
       "4     39.11        76          24        5.79  "
      ]
     },
     "execution_count": 2,
     "metadata": {},
     "output_type": "execute_result"
    }
   ],
   "source": [
    "# Store the CSV you saved created in part one into a DataFrame.\n",
    "city_data = pd.read_csv(\"resources/cities.csv\")\n",
    "city_data.head()"
   ]
  },
  {
   "cell_type": "code",
   "execution_count": 3,
   "id": "1cb181fe",
   "metadata": {},
   "outputs": [],
   "source": [
    "# Get the maximum temperature.\n",
    "max_temp = city_data[\"Max Temp\"]\n",
    "temps = []\n",
    "for temp in max_temp:\n",
    "    temps.append(max(temp, 0))"
   ]
  },
  {
   "cell_type": "code",
   "execution_count": 4,
   "id": "494f0ab0",
   "metadata": {},
   "outputs": [
    {
     "data": {
      "text/plain": [
       "City_ID         int64\n",
       "City           object\n",
       "Country        object\n",
       "Date           object\n",
       "Lat           float64\n",
       "Lng           float64\n",
       "Max Temp      float64\n",
       "Humidity        int64\n",
       "Cloudiness      int64\n",
       "Wind Speed    float64\n",
       "dtype: object"
      ]
     },
     "execution_count": 4,
     "metadata": {},
     "output_type": "execute_result"
    }
   ],
   "source": [
    "city_data.dtypes"
   ]
  },
  {
   "cell_type": "code",
   "execution_count": 5,
   "id": "7e104820",
   "metadata": {},
   "outputs": [],
   "source": [
    "# Configure gmaps to use your Google API key.\n",
    "gmaps.configure(api_key=g_key)"
   ]
  },
  {
   "cell_type": "code",
   "execution_count": 9,
   "id": "041313c9",
   "metadata": {},
   "outputs": [
    {
     "data": {
      "application/vnd.jupyter.widget-view+json": {
       "model_id": "509229a8a50a46fe955ae85452fc0fa1",
       "version_major": 2,
       "version_minor": 0
      },
      "text/plain": [
       "Figure(layout=FigureLayout(height='420px'))"
      ]
     },
     "metadata": {},
     "output_type": "display_data"
    }
   ],
   "source": [
    "# Heatmap of temperature\n",
    "# Get the latitude and longitude.\n",
    "locations = city_data[[\"Lat\", \"Lng\"]]\n",
    "# Get the maximum temperature.\n",
    "max_temp = city_data[\"Max Temp\"]\n",
    "\n",
    "# Assign the figure variable.\n",
    "fig = gmaps.figure(center=(30.0, 31.0), zoom_level=1.5)\n",
    "\n",
    "# Assign the heatmap variable.\n",
    "heat_layer = gmaps.heatmap_layer(\n",
    "    locations,\n",
    "    weights=[max(temp, 0) for temp in max_temp],\n",
    "    dissipating=False,\n",
    "    max_intensity=300,\n",
    "    point_radius=4\n",
    ")\n",
    "\n",
    "# Add the heatmap layer.\n",
    "fig.add_layer(heat_layer)\n",
    "\n",
    "# Call the figure to plot the data.\n",
    "fig"
   ]
  },
  {
   "cell_type": "code",
   "execution_count": 8,
   "id": "a7a9c0bc",
   "metadata": {},
   "outputs": [
    {
     "data": {
      "application/vnd.jupyter.widget-view+json": {
       "model_id": "40dae4be8f9b4986951245adc97931dd",
       "version_major": 2,
       "version_minor": 0
      },
      "text/plain": [
       "Figure(layout=FigureLayout(height='420px'))"
      ]
     },
     "metadata": {},
     "output_type": "display_data"
    }
   ],
   "source": [
    "# Heatmap of percent humidity\n",
    "locations = city_data[[\"Lat\", \"Lng\"]]\n",
    "humidity = city_data[\"Humidity\"]\n",
    "\n",
    "fig = gmaps.figure(center=(30.0, 31.0), zoom_level=1.5)\n",
    "heat_layer = gmaps.heatmap_layer(\n",
    "    locations,\n",
    "    weights=humidity,\n",
    "    dissipating=False,\n",
    "    max_intensity=300,\n",
    "    point_radius=4\n",
    ")\n",
    "\n",
    "fig.add_layer(heat_layer)\n",
    "# Call the figure to plot the data.\n",
    "fig"
   ]
  },
  {
   "cell_type": "code",
   "execution_count": 10,
   "id": "d24a6669",
   "metadata": {},
   "outputs": [
    {
     "data": {
      "application/vnd.jupyter.widget-view+json": {
       "model_id": "5af930596c8241f9a3d021cac6ff706f",
       "version_major": 2,
       "version_minor": 0
      },
      "text/plain": [
       "Figure(layout=FigureLayout(height='420px'))"
      ]
     },
     "metadata": {},
     "output_type": "display_data"
    }
   ],
   "source": [
    "# Heatmap of percent cloudiness\n",
    "locations = city_data[[\"Lat\", \"Lng\"]]\n",
    "clouds = city_data[\"Cloudiness\"]\n",
    "\n",
    "fig = gmaps.figure(center=(30.0, 31.0), zoom_level=1.5)\n",
    "heat_layer = gmaps.heatmap_layer(\n",
    "    locations,\n",
    "    weights=clouds,\n",
    "    dissipating=False,\n",
    "    max_intensity=300,\n",
    "    point_radius=4\n",
    ")\n",
    "\n",
    "fig.add_layer(heat_layer)\n",
    "# Call the figure to plot the data.\n",
    "fig"
   ]
  },
  {
   "cell_type": "code",
   "execution_count": 11,
   "id": "f98039e1",
   "metadata": {},
   "outputs": [
    {
     "data": {
      "application/vnd.jupyter.widget-view+json": {
       "model_id": "ba613cb8df5c42e6b41c84bc29aa28b3",
       "version_major": 2,
       "version_minor": 0
      },
      "text/plain": [
       "Figure(layout=FigureLayout(height='420px'))"
      ]
     },
     "metadata": {},
     "output_type": "display_data"
    }
   ],
   "source": [
    "# Heatmap of percent wind speed\n",
    "locations = city_data[[\"Lat\", \"Lng\"]]\n",
    "wind_speed = city_data[\"Wind Speed\"]\n",
    "\n",
    "fig = gmaps.figure(center=(30.0, 31.0), zoom_level=1.5)\n",
    "heat_layer = gmaps.heatmap_layer(\n",
    "    locations,\n",
    "    weights=wind_speed,\n",
    "    dissipating=False,\n",
    "    max_intensity=300,\n",
    "    point_radius=4\n",
    ")\n",
    "\n",
    "fig.add_layer(heat_layer)\n",
    "# Call the figure to plot the data.\n",
    "fig"
   ]
  },
  {
   "cell_type": "code",
   "execution_count": 27,
   "id": "c0bb1bb2",
   "metadata": {},
   "outputs": [
    {
     "name": "stdout",
     "output_type": "stream",
     "text": [
      "What is the minimum temperature you would like for your trip? 65\n",
      "What is the maximum temperature you would like for your trip? 80\n"
     ]
    }
   ],
   "source": [
    "# Ask the customer to add a minimum and maximum temperature value.\n",
    "min_temp = float(input(\"What is the minimum temperature you would like for your trip? \"))\n",
    "max_temp = float(input(\"What is the maximum temperature you would like for your trip? \"))"
   ]
  },
  {
   "cell_type": "code",
   "execution_count": 28,
   "id": "c59e2361",
   "metadata": {},
   "outputs": [
    {
     "data": {
      "text/html": [
       "<div>\n",
       "<style scoped>\n",
       "    .dataframe tbody tr th:only-of-type {\n",
       "        vertical-align: middle;\n",
       "    }\n",
       "\n",
       "    .dataframe tbody tr th {\n",
       "        vertical-align: top;\n",
       "    }\n",
       "\n",
       "    .dataframe thead th {\n",
       "        text-align: right;\n",
       "    }\n",
       "</style>\n",
       "<table border=\"1\" class=\"dataframe\">\n",
       "  <thead>\n",
       "    <tr style=\"text-align: right;\">\n",
       "      <th></th>\n",
       "      <th>City_ID</th>\n",
       "      <th>City</th>\n",
       "      <th>Country</th>\n",
       "      <th>Date</th>\n",
       "      <th>Lat</th>\n",
       "      <th>Lng</th>\n",
       "      <th>Max Temp</th>\n",
       "      <th>Humidity</th>\n",
       "      <th>Cloudiness</th>\n",
       "      <th>Wind Speed</th>\n",
       "    </tr>\n",
       "  </thead>\n",
       "  <tbody>\n",
       "    <tr>\n",
       "      <th>0</th>\n",
       "      <td>0</td>\n",
       "      <td>Hilo</td>\n",
       "      <td>US</td>\n",
       "      <td>2021-09-21 16:08:48</td>\n",
       "      <td>19.7297</td>\n",
       "      <td>-155.0900</td>\n",
       "      <td>75.27</td>\n",
       "      <td>84</td>\n",
       "      <td>74</td>\n",
       "      <td>3.40</td>\n",
       "    </tr>\n",
       "    <tr>\n",
       "      <th>1</th>\n",
       "      <td>1</td>\n",
       "      <td>Albany</td>\n",
       "      <td>US</td>\n",
       "      <td>2021-09-21 16:13:22</td>\n",
       "      <td>42.6001</td>\n",
       "      <td>-73.9662</td>\n",
       "      <td>72.03</td>\n",
       "      <td>68</td>\n",
       "      <td>100</td>\n",
       "      <td>1.01</td>\n",
       "    </tr>\n",
       "    <tr>\n",
       "      <th>5</th>\n",
       "      <td>5</td>\n",
       "      <td>Rikitea</td>\n",
       "      <td>PF</td>\n",
       "      <td>2021-09-21 16:13:23</td>\n",
       "      <td>-23.1203</td>\n",
       "      <td>-134.9692</td>\n",
       "      <td>73.67</td>\n",
       "      <td>71</td>\n",
       "      <td>0</td>\n",
       "      <td>14.76</td>\n",
       "    </tr>\n",
       "    <tr>\n",
       "      <th>6</th>\n",
       "      <td>6</td>\n",
       "      <td>Besancon</td>\n",
       "      <td>FR</td>\n",
       "      <td>2021-09-21 16:13:23</td>\n",
       "      <td>47.2488</td>\n",
       "      <td>6.0182</td>\n",
       "      <td>69.53</td>\n",
       "      <td>15</td>\n",
       "      <td>2</td>\n",
       "      <td>9.10</td>\n",
       "    </tr>\n",
       "    <tr>\n",
       "      <th>7</th>\n",
       "      <td>7</td>\n",
       "      <td>Muros</td>\n",
       "      <td>ES</td>\n",
       "      <td>2021-09-21 16:13:23</td>\n",
       "      <td>42.7762</td>\n",
       "      <td>-9.0603</td>\n",
       "      <td>78.24</td>\n",
       "      <td>54</td>\n",
       "      <td>1</td>\n",
       "      <td>14.27</td>\n",
       "    </tr>\n",
       "    <tr>\n",
       "      <th>11</th>\n",
       "      <td>11</td>\n",
       "      <td>Ambilobe</td>\n",
       "      <td>MG</td>\n",
       "      <td>2021-09-21 16:13:25</td>\n",
       "      <td>-13.2000</td>\n",
       "      <td>49.0500</td>\n",
       "      <td>75.40</td>\n",
       "      <td>64</td>\n",
       "      <td>0</td>\n",
       "      <td>4.83</td>\n",
       "    </tr>\n",
       "    <tr>\n",
       "      <th>17</th>\n",
       "      <td>17</td>\n",
       "      <td>Gebze</td>\n",
       "      <td>TR</td>\n",
       "      <td>2021-09-21 16:13:27</td>\n",
       "      <td>40.8028</td>\n",
       "      <td>29.4307</td>\n",
       "      <td>67.06</td>\n",
       "      <td>76</td>\n",
       "      <td>100</td>\n",
       "      <td>13.11</td>\n",
       "    </tr>\n",
       "    <tr>\n",
       "      <th>24</th>\n",
       "      <td>24</td>\n",
       "      <td>Yarmouth</td>\n",
       "      <td>US</td>\n",
       "      <td>2021-09-21 16:13:29</td>\n",
       "      <td>41.7057</td>\n",
       "      <td>-70.2286</td>\n",
       "      <td>74.34</td>\n",
       "      <td>77</td>\n",
       "      <td>57</td>\n",
       "      <td>1.99</td>\n",
       "    </tr>\n",
       "    <tr>\n",
       "      <th>25</th>\n",
       "      <td>25</td>\n",
       "      <td>Luganville</td>\n",
       "      <td>VU</td>\n",
       "      <td>2021-09-21 16:11:07</td>\n",
       "      <td>-15.5333</td>\n",
       "      <td>167.1667</td>\n",
       "      <td>75.04</td>\n",
       "      <td>80</td>\n",
       "      <td>19</td>\n",
       "      <td>2.95</td>\n",
       "    </tr>\n",
       "    <tr>\n",
       "      <th>27</th>\n",
       "      <td>27</td>\n",
       "      <td>Cermik</td>\n",
       "      <td>TR</td>\n",
       "      <td>2021-09-21 16:13:30</td>\n",
       "      <td>38.1361</td>\n",
       "      <td>39.4493</td>\n",
       "      <td>79.68</td>\n",
       "      <td>24</td>\n",
       "      <td>1</td>\n",
       "      <td>3.71</td>\n",
       "    </tr>\n",
       "  </tbody>\n",
       "</table>\n",
       "</div>"
      ],
      "text/plain": [
       "    City_ID        City Country                 Date      Lat       Lng  \\\n",
       "0         0        Hilo      US  2021-09-21 16:08:48  19.7297 -155.0900   \n",
       "1         1      Albany      US  2021-09-21 16:13:22  42.6001  -73.9662   \n",
       "5         5     Rikitea      PF  2021-09-21 16:13:23 -23.1203 -134.9692   \n",
       "6         6    Besancon      FR  2021-09-21 16:13:23  47.2488    6.0182   \n",
       "7         7       Muros      ES  2021-09-21 16:13:23  42.7762   -9.0603   \n",
       "11       11    Ambilobe      MG  2021-09-21 16:13:25 -13.2000   49.0500   \n",
       "17       17       Gebze      TR  2021-09-21 16:13:27  40.8028   29.4307   \n",
       "24       24    Yarmouth      US  2021-09-21 16:13:29  41.7057  -70.2286   \n",
       "25       25  Luganville      VU  2021-09-21 16:11:07 -15.5333  167.1667   \n",
       "27       27      Cermik      TR  2021-09-21 16:13:30  38.1361   39.4493   \n",
       "\n",
       "    Max Temp  Humidity  Cloudiness  Wind Speed  \n",
       "0      75.27        84          74        3.40  \n",
       "1      72.03        68         100        1.01  \n",
       "5      73.67        71           0       14.76  \n",
       "6      69.53        15           2        9.10  \n",
       "7      78.24        54           1       14.27  \n",
       "11     75.40        64           0        4.83  \n",
       "17     67.06        76         100       13.11  \n",
       "24     74.34        77          57        1.99  \n",
       "25     75.04        80          19        2.95  \n",
       "27     79.68        24           1        3.71  "
      ]
     },
     "execution_count": 28,
     "metadata": {},
     "output_type": "execute_result"
    }
   ],
   "source": [
    "# Filter the dataset to find the cities that fit the criteria.\n",
    "preferred_cities_data = city_data.loc[(city_data[\"Max Temp\"] <= max_temp) & \\\n",
    "                                       (city_data[\"Max Temp\"] >= min_temp)]\n",
    "preferred_cities_data.head(10)"
   ]
  },
  {
   "cell_type": "code",
   "execution_count": 29,
   "id": "314be012",
   "metadata": {},
   "outputs": [
    {
     "data": {
      "text/plain": [
       "City_ID       0\n",
       "City          0\n",
       "Country       2\n",
       "Date          0\n",
       "Lat           0\n",
       "Lng           0\n",
       "Max Temp      0\n",
       "Humidity      0\n",
       "Cloudiness    0\n",
       "Wind Speed    0\n",
       "dtype: int64"
      ]
     },
     "execution_count": 29,
     "metadata": {},
     "output_type": "execute_result"
    }
   ],
   "source": [
    "preferred_cities_data.isnull().sum()"
   ]
  },
  {
   "cell_type": "code",
   "execution_count": 30,
   "id": "6ca963e8",
   "metadata": {},
   "outputs": [
    {
     "data": {
      "text/plain": [
       "City_ID       198\n",
       "City          198\n",
       "Country       198\n",
       "Date          198\n",
       "Lat           198\n",
       "Lng           198\n",
       "Max Temp      198\n",
       "Humidity      198\n",
       "Cloudiness    198\n",
       "Wind Speed    198\n",
       "dtype: int64"
      ]
     },
     "execution_count": 30,
     "metadata": {},
     "output_type": "execute_result"
    }
   ],
   "source": [
    "preferred_cities_data = preferred_cities_data.dropna()\n",
    "preferred_cities_data.count()"
   ]
  },
  {
   "cell_type": "code",
   "execution_count": 36,
   "id": "1c267236",
   "metadata": {},
   "outputs": [
    {
     "data": {
      "text/html": [
       "<div>\n",
       "<style scoped>\n",
       "    .dataframe tbody tr th:only-of-type {\n",
       "        vertical-align: middle;\n",
       "    }\n",
       "\n",
       "    .dataframe tbody tr th {\n",
       "        vertical-align: top;\n",
       "    }\n",
       "\n",
       "    .dataframe thead th {\n",
       "        text-align: right;\n",
       "    }\n",
       "</style>\n",
       "<table border=\"1\" class=\"dataframe\">\n",
       "  <thead>\n",
       "    <tr style=\"text-align: right;\">\n",
       "      <th></th>\n",
       "      <th>City</th>\n",
       "      <th>Country</th>\n",
       "      <th>Max Temp</th>\n",
       "      <th>Lat</th>\n",
       "      <th>Lng</th>\n",
       "      <th>Hotel Name</th>\n",
       "    </tr>\n",
       "  </thead>\n",
       "  <tbody>\n",
       "    <tr>\n",
       "      <th>0</th>\n",
       "      <td>Hilo</td>\n",
       "      <td>US</td>\n",
       "      <td>75.27</td>\n",
       "      <td>19.7297</td>\n",
       "      <td>-155.0900</td>\n",
       "      <td></td>\n",
       "    </tr>\n",
       "    <tr>\n",
       "      <th>1</th>\n",
       "      <td>Albany</td>\n",
       "      <td>US</td>\n",
       "      <td>72.03</td>\n",
       "      <td>42.6001</td>\n",
       "      <td>-73.9662</td>\n",
       "      <td></td>\n",
       "    </tr>\n",
       "    <tr>\n",
       "      <th>5</th>\n",
       "      <td>Rikitea</td>\n",
       "      <td>PF</td>\n",
       "      <td>73.67</td>\n",
       "      <td>-23.1203</td>\n",
       "      <td>-134.9692</td>\n",
       "      <td></td>\n",
       "    </tr>\n",
       "    <tr>\n",
       "      <th>6</th>\n",
       "      <td>Besancon</td>\n",
       "      <td>FR</td>\n",
       "      <td>69.53</td>\n",
       "      <td>47.2488</td>\n",
       "      <td>6.0182</td>\n",
       "      <td></td>\n",
       "    </tr>\n",
       "    <tr>\n",
       "      <th>7</th>\n",
       "      <td>Muros</td>\n",
       "      <td>ES</td>\n",
       "      <td>78.24</td>\n",
       "      <td>42.7762</td>\n",
       "      <td>-9.0603</td>\n",
       "      <td></td>\n",
       "    </tr>\n",
       "  </tbody>\n",
       "</table>\n",
       "</div>"
      ],
      "text/plain": [
       "       City Country  Max Temp      Lat       Lng Hotel Name\n",
       "0      Hilo      US     75.27  19.7297 -155.0900           \n",
       "1    Albany      US     72.03  42.6001  -73.9662           \n",
       "5   Rikitea      PF     73.67 -23.1203 -134.9692           \n",
       "6  Besancon      FR     69.53  47.2488    6.0182           \n",
       "7     Muros      ES     78.24  42.7762   -9.0603           "
      ]
     },
     "execution_count": 36,
     "metadata": {},
     "output_type": "execute_result"
    }
   ],
   "source": [
    "hotel_data = preferred_cities_data[['City', 'Country', 'Max Temp', 'Lat', 'Lng']].copy()\n",
    "hotel_data['Hotel Name'] = ''\n",
    "hotel_data.head()"
   ]
  },
  {
   "cell_type": "code",
   "execution_count": 45,
   "id": "c1c79172",
   "metadata": {},
   "outputs": [],
   "source": [
    "# Set parameters to search for a hotel.\n",
    "params = {\n",
    "    \"radius\": 5000,\n",
    "    \"type\": \"lodging\",\n",
    "    \"key\": g_key\n",
    "}"
   ]
  },
  {
   "cell_type": "code",
   "execution_count": 46,
   "id": "5847934d",
   "metadata": {},
   "outputs": [
    {
     "name": "stdout",
     "output_type": "stream",
     "text": [
      "No hotel found near this location...skipping\n",
      "No hotel found near this location...skipping\n",
      "No hotel found near this location...skipping\n",
      "No hotel found near this location...skipping\n",
      "No hotel found near this location...skipping\n",
      "No hotel found near this location...skipping\n",
      "No hotel found near this location...skipping\n",
      "No hotel found near this location...skipping\n",
      "No hotel found near this location...skipping\n"
     ]
    }
   ],
   "source": [
    "# Iterate through the DataFrame.\n",
    "for index, row in hotel_data.iterrows():\n",
    "    # Get the latitude and longitude.\n",
    "    lat = row[\"Lat\"]\n",
    "    lng = row[\"Lng\"]\n",
    "\n",
    "    # Add the latitude and longitude to location key for the params dictionary.\n",
    "    params[\"location\"] = f\"{lat},{lng}\"\n",
    "\n",
    "    # Use the search term: \"lodging\" and our latitude and longitude.\n",
    "    base_url = \"https://maps.googleapis.com/maps/api/place/nearbysearch/json\"\n",
    "    # Make request and get the JSON data from the search.\n",
    "    hotels = requests.get(base_url, params=params).json()\n",
    "    # Grab the first hotel from the results and store the name.\n",
    "    try:\n",
    "        hotel_data.loc[index, \"Hotel Name\"] = hotels[\"results\"][0][\"name\"]\n",
    "    except (IndexError):\n",
    "        print('No hotel found near this location...skipping')"
   ]
  },
  {
   "cell_type": "code",
   "execution_count": 47,
   "id": "77ce7ceb",
   "metadata": {},
   "outputs": [
    {
     "data": {
      "text/html": [
       "<div>\n",
       "<style scoped>\n",
       "    .dataframe tbody tr th:only-of-type {\n",
       "        vertical-align: middle;\n",
       "    }\n",
       "\n",
       "    .dataframe tbody tr th {\n",
       "        vertical-align: top;\n",
       "    }\n",
       "\n",
       "    .dataframe thead th {\n",
       "        text-align: right;\n",
       "    }\n",
       "</style>\n",
       "<table border=\"1\" class=\"dataframe\">\n",
       "  <thead>\n",
       "    <tr style=\"text-align: right;\">\n",
       "      <th></th>\n",
       "      <th>City</th>\n",
       "      <th>Country</th>\n",
       "      <th>Max Temp</th>\n",
       "      <th>Lat</th>\n",
       "      <th>Lng</th>\n",
       "      <th>Hotel Name</th>\n",
       "    </tr>\n",
       "  </thead>\n",
       "  <tbody>\n",
       "    <tr>\n",
       "      <th>0</th>\n",
       "      <td>Hilo</td>\n",
       "      <td>US</td>\n",
       "      <td>75.27</td>\n",
       "      <td>19.7297</td>\n",
       "      <td>-155.0900</td>\n",
       "      <td>Hilo Hawaiian Hotel</td>\n",
       "    </tr>\n",
       "    <tr>\n",
       "      <th>1</th>\n",
       "      <td>Albany</td>\n",
       "      <td>US</td>\n",
       "      <td>72.03</td>\n",
       "      <td>42.6001</td>\n",
       "      <td>-73.9662</td>\n",
       "      <td></td>\n",
       "    </tr>\n",
       "    <tr>\n",
       "      <th>5</th>\n",
       "      <td>Rikitea</td>\n",
       "      <td>PF</td>\n",
       "      <td>73.67</td>\n",
       "      <td>-23.1203</td>\n",
       "      <td>-134.9692</td>\n",
       "      <td>People ThankYou</td>\n",
       "    </tr>\n",
       "    <tr>\n",
       "      <th>6</th>\n",
       "      <td>Besancon</td>\n",
       "      <td>FR</td>\n",
       "      <td>69.53</td>\n",
       "      <td>47.2488</td>\n",
       "      <td>6.0182</td>\n",
       "      <td>ibis Besançon Centre-Ville</td>\n",
       "    </tr>\n",
       "    <tr>\n",
       "      <th>7</th>\n",
       "      <td>Muros</td>\n",
       "      <td>ES</td>\n",
       "      <td>78.24</td>\n",
       "      <td>42.7762</td>\n",
       "      <td>-9.0603</td>\n",
       "      <td>Apartment Av. Castelao</td>\n",
       "    </tr>\n",
       "    <tr>\n",
       "      <th>11</th>\n",
       "      <td>Ambilobe</td>\n",
       "      <td>MG</td>\n",
       "      <td>75.40</td>\n",
       "      <td>-13.2000</td>\n",
       "      <td>49.0500</td>\n",
       "      <td>Hôtel &amp; Restaurant DIANA Ambilobe</td>\n",
       "    </tr>\n",
       "    <tr>\n",
       "      <th>17</th>\n",
       "      <td>Gebze</td>\n",
       "      <td>TR</td>\n",
       "      <td>67.06</td>\n",
       "      <td>40.8028</td>\n",
       "      <td>29.4307</td>\n",
       "      <td>Holiday Inn Gebze - Istanbul Asia</td>\n",
       "    </tr>\n",
       "    <tr>\n",
       "      <th>24</th>\n",
       "      <td>Yarmouth</td>\n",
       "      <td>US</td>\n",
       "      <td>74.34</td>\n",
       "      <td>41.7057</td>\n",
       "      <td>-70.2286</td>\n",
       "      <td>Blue Rock Resort</td>\n",
       "    </tr>\n",
       "    <tr>\n",
       "      <th>25</th>\n",
       "      <td>Luganville</td>\n",
       "      <td>VU</td>\n",
       "      <td>75.04</td>\n",
       "      <td>-15.5333</td>\n",
       "      <td>167.1667</td>\n",
       "      <td>The Espiritu Hotel</td>\n",
       "    </tr>\n",
       "    <tr>\n",
       "      <th>27</th>\n",
       "      <td>Cermik</td>\n",
       "      <td>TR</td>\n",
       "      <td>79.68</td>\n",
       "      <td>38.1361</td>\n",
       "      <td>39.4493</td>\n",
       "      <td>Çermik Öğretmen Evi</td>\n",
       "    </tr>\n",
       "  </tbody>\n",
       "</table>\n",
       "</div>"
      ],
      "text/plain": [
       "          City Country  Max Temp      Lat       Lng  \\\n",
       "0         Hilo      US     75.27  19.7297 -155.0900   \n",
       "1       Albany      US     72.03  42.6001  -73.9662   \n",
       "5      Rikitea      PF     73.67 -23.1203 -134.9692   \n",
       "6     Besancon      FR     69.53  47.2488    6.0182   \n",
       "7        Muros      ES     78.24  42.7762   -9.0603   \n",
       "11    Ambilobe      MG     75.40 -13.2000   49.0500   \n",
       "17       Gebze      TR     67.06  40.8028   29.4307   \n",
       "24    Yarmouth      US     74.34  41.7057  -70.2286   \n",
       "25  Luganville      VU     75.04 -15.5333  167.1667   \n",
       "27      Cermik      TR     79.68  38.1361   39.4493   \n",
       "\n",
       "                           Hotel Name  \n",
       "0                 Hilo Hawaiian Hotel  \n",
       "1                                      \n",
       "5                     People ThankYou  \n",
       "6          ibis Besançon Centre-Ville  \n",
       "7              Apartment Av. Castelao  \n",
       "11  Hôtel & Restaurant DIANA Ambilobe  \n",
       "17  Holiday Inn Gebze - Istanbul Asia  \n",
       "24                   Blue Rock Resort  \n",
       "25                 The Espiritu Hotel  \n",
       "27                Çermik Öğretmen Evi  "
      ]
     },
     "execution_count": 47,
     "metadata": {},
     "output_type": "execute_result"
    }
   ],
   "source": [
    "hotel_data.head(10)"
   ]
  },
  {
   "cell_type": "code",
   "execution_count": 49,
   "id": "78175753",
   "metadata": {},
   "outputs": [
    {
     "data": {
      "text/plain": [
       "City          198\n",
       "Country       198\n",
       "Max Temp      198\n",
       "Lat           198\n",
       "Lng           198\n",
       "Hotel Name    198\n",
       "dtype: int64"
      ]
     },
     "execution_count": 49,
     "metadata": {},
     "output_type": "execute_result"
    }
   ],
   "source": [
    "hotel_data.count()"
   ]
  },
  {
   "cell_type": "code",
   "execution_count": 53,
   "id": "63208532",
   "metadata": {},
   "outputs": [],
   "source": [
    "info_box_template = \"\"\"\n",
    "<dl>\n",
    "<dt>Hotel Name</dt><dd>{Hotel Name}</dd>\n",
    "<dt>City</dt><dd>{City}</dd>\n",
    "<dt>Country</dt><dd>{Country}</dd>\n",
    "<dt>Max Temp</dt><dd>{Max Temp} °F</dd>\n",
    "</dl>\n",
    "\"\"\""
   ]
  },
  {
   "cell_type": "code",
   "execution_count": 59,
   "id": "1bcbd8c3",
   "metadata": {},
   "outputs": [],
   "source": [
    "# Store the DataFrame Row.\n",
    "hotel_info = [info_box_template.format(**row) for index, row in hotel_data.iterrows()]"
   ]
  },
  {
   "cell_type": "code",
   "execution_count": 60,
   "id": "e2f5dae6",
   "metadata": {},
   "outputs": [
    {
     "data": {
      "application/vnd.jupyter.widget-view+json": {
       "model_id": "2631ab18247f4f74b93d01e4d7c75545",
       "version_major": 2,
       "version_minor": 0
      },
      "text/plain": [
       "Figure(layout=FigureLayout(height='420px'))"
      ]
     },
     "metadata": {},
     "output_type": "display_data"
    }
   ],
   "source": [
    "# Heatmap of temperature\n",
    "# Get the latitude and longitude.\n",
    "locations = hotel_data[[\"Lat\", \"Lng\"]]\n",
    "# Get the maximum temperature.\n",
    "max_temp = hotel_data[\"Max Temp\"]\n",
    "\n",
    "# Assign the figure variable.\n",
    "fig = gmaps.figure(center=(30.0, 31.0), zoom_level=1.5)\n",
    "\n",
    "# Assign the heatmap variable.\n",
    "heat_layer = gmaps.heatmap_layer(\n",
    "    locations,\n",
    "    weights=max_temp,\n",
    "    dissipating=False,\n",
    "    max_intensity=300,\n",
    "    point_radius=4\n",
    ")\n",
    "# Marker layer\n",
    "marker_layer = gmaps.marker_layer(locations, info_box_content=hotel_info)\n",
    "\n",
    "# Add the map layers.\n",
    "fig.add_layer(heat_layer)\n",
    "fig.add_layer(marker_layer)\n",
    "\n",
    "# Call the figure to plot the data.\n",
    "fig"
   ]
  },
  {
   "cell_type": "code",
   "execution_count": null,
   "id": "1f0c185c",
   "metadata": {},
   "outputs": [],
   "source": []
  }
 ],
 "metadata": {
  "kernelspec": {
   "display_name": "PythonData",
   "language": "python",
   "name": "pythondata"
  },
  "language_info": {
   "codemirror_mode": {
    "name": "ipython",
    "version": 3
   },
   "file_extension": ".py",
   "mimetype": "text/x-python",
   "name": "python",
   "nbconvert_exporter": "python",
   "pygments_lexer": "ipython3",
   "version": "3.9.4"
  }
 },
 "nbformat": 4,
 "nbformat_minor": 5
}
